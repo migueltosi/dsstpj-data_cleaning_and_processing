{
  "nbformat": 4,
  "nbformat_minor": 0,
  "metadata": {
    "colab": {
      "provenance": [],
      "authorship_tag": "ABX9TyM1NfqtW4GMAFFgG77E8UEU"
    },
    "kernelspec": {
      "name": "python3",
      "display_name": "Python 3"
    },
    "language_info": {
      "name": "python"
    }
  },
  "cells": [
    {
      "cell_type": "markdown",
      "source": [
        "DsChPj: Data Science Challenge Project"
      ],
      "metadata": {
        "id": "WK2dCDI3EzIL"
      }
    },
    {
      "cell_type": "markdown",
      "source": [
        "# Challenges about data cleaning and processing"
      ],
      "metadata": {
        "id": "aaSL_N28E6Yt"
      }
    },
    {
      "cell_type": "markdown",
      "source": [
        "## Challenge 1"
      ],
      "metadata": {
        "id": "IaPYixagFAdq"
      }
    },
    {
      "cell_type": "markdown",
      "source": [
        "Você recebeu a tarefa de normalizar o seguinte arquivo JSON chamado “informacoes.json” referente a algumas informações de identificação de um cliente. O arquivo possui o seguinte conteúdo:\n",
        "\n",
        "---\n",
        "\n",
        "You have been tasked with normalizing the following JSON file called “informacoes.json” for some customer identification information. The file has the following content:"
      ],
      "metadata": {
        "id": "E0g1Dqi1FCoA"
      }
    },
    {
      "cell_type": "code",
      "source": [
        "import pandas as pd"
      ],
      "metadata": {
        "id": "PyLcXB05F47q"
      },
      "execution_count": 1,
      "outputs": []
    },
    {
      "cell_type": "code",
      "execution_count": 2,
      "metadata": {
        "id": "p7wNBYjOEuFB"
      },
      "outputs": [],
      "source": [
        "json_content = {\n",
        "  \"nome\": \"João\",\n",
        "  \"idade\": 28,\n",
        "  \"enderecos\": [\n",
        "    {\n",
        "      \"tipo\": \"casa\",\n",
        "      \"rua\": \"Rua A\",\n",
        "      \"numero\": 123,\n",
        "      \"cidade\": \"São Paulo\"\n",
        "    },\n",
        "    {\n",
        "      \"tipo\": \"trabalho\",\n",
        "      \"rua\": \"Rua B\",\n",
        "      \"numero\": 456,\n",
        "      \"cidade\": \"Rio de Janeiro\"\n",
        "    }\n",
        "  ]\n",
        "}"
      ]
    },
    {
      "cell_type": "markdown",
      "source": [
        "O resultado final deve ser um Pandas DataFrame que possui a seguinte estrutura:\n",
        "\n",
        "---\n",
        "\n",
        "The end result should be a Pandas DataFrame that has the following structure:"
      ],
      "metadata": {
        "id": "oa_zu96lFYRQ"
      }
    },
    {
      "cell_type": "markdown",
      "source": [
        "![imagem_2023-07-23_015127556.png](data:image/png;base64,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)"
      ],
      "metadata": {
        "id": "iZnfcIEoFodl"
      }
    },
    {
      "cell_type": "code",
      "source": [
        "pd.json_normalize(json_content, record_path='enderecos', meta = ['nome', 'idade'])"
      ],
      "metadata": {
        "colab": {
          "base_uri": "https://localhost:8080/",
          "height": 112
        },
        "id": "JQU74aGnF3wZ",
        "outputId": "e705d374-8143-495c-f9da-9ac1fcbe30b8"
      },
      "execution_count": 3,
      "outputs": [
        {
          "output_type": "execute_result",
          "data": {
            "text/plain": [
              "       tipo    rua  numero          cidade  nome idade\n",
              "0      casa  Rua A     123       São Paulo  João    28\n",
              "1  trabalho  Rua B     456  Rio de Janeiro  João    28"
            ],
            "text/html": [
              "\n",
              "\n",
              "  <div id=\"df-391baf02-e4d3-4e1c-a3d2-f4b3aaabce87\">\n",
              "    <div class=\"colab-df-container\">\n",
              "      <div>\n",
              "<style scoped>\n",
              "    .dataframe tbody tr th:only-of-type {\n",
              "        vertical-align: middle;\n",
              "    }\n",
              "\n",
              "    .dataframe tbody tr th {\n",
              "        vertical-align: top;\n",
              "    }\n",
              "\n",
              "    .dataframe thead th {\n",
              "        text-align: right;\n",
              "    }\n",
              "</style>\n",
              "<table border=\"1\" class=\"dataframe\">\n",
              "  <thead>\n",
              "    <tr style=\"text-align: right;\">\n",
              "      <th></th>\n",
              "      <th>tipo</th>\n",
              "      <th>rua</th>\n",
              "      <th>numero</th>\n",
              "      <th>cidade</th>\n",
              "      <th>nome</th>\n",
              "      <th>idade</th>\n",
              "    </tr>\n",
              "  </thead>\n",
              "  <tbody>\n",
              "    <tr>\n",
              "      <th>0</th>\n",
              "      <td>casa</td>\n",
              "      <td>Rua A</td>\n",
              "      <td>123</td>\n",
              "      <td>São Paulo</td>\n",
              "      <td>João</td>\n",
              "      <td>28</td>\n",
              "    </tr>\n",
              "    <tr>\n",
              "      <th>1</th>\n",
              "      <td>trabalho</td>\n",
              "      <td>Rua B</td>\n",
              "      <td>456</td>\n",
              "      <td>Rio de Janeiro</td>\n",
              "      <td>João</td>\n",
              "      <td>28</td>\n",
              "    </tr>\n",
              "  </tbody>\n",
              "</table>\n",
              "</div>\n",
              "      <button class=\"colab-df-convert\" onclick=\"convertToInteractive('df-391baf02-e4d3-4e1c-a3d2-f4b3aaabce87')\"\n",
              "              title=\"Convert this dataframe to an interactive table.\"\n",
              "              style=\"display:none;\">\n",
              "\n",
              "  <svg xmlns=\"http://www.w3.org/2000/svg\" height=\"24px\"viewBox=\"0 0 24 24\"\n",
              "       width=\"24px\">\n",
              "    <path d=\"M0 0h24v24H0V0z\" fill=\"none\"/>\n",
              "    <path d=\"M18.56 5.44l.94 2.06.94-2.06 2.06-.94-2.06-.94-.94-2.06-.94 2.06-2.06.94zm-11 1L8.5 8.5l.94-2.06 2.06-.94-2.06-.94L8.5 2.5l-.94 2.06-2.06.94zm10 10l.94 2.06.94-2.06 2.06-.94-2.06-.94-.94-2.06-.94 2.06-2.06.94z\"/><path d=\"M17.41 7.96l-1.37-1.37c-.4-.4-.92-.59-1.43-.59-.52 0-1.04.2-1.43.59L10.3 9.45l-7.72 7.72c-.78.78-.78 2.05 0 2.83L4 21.41c.39.39.9.59 1.41.59.51 0 1.02-.2 1.41-.59l7.78-7.78 2.81-2.81c.8-.78.8-2.07 0-2.86zM5.41 20L4 18.59l7.72-7.72 1.47 1.35L5.41 20z\"/>\n",
              "  </svg>\n",
              "      </button>\n",
              "\n",
              "\n",
              "\n",
              "    <div id=\"df-4b19a4ae-b0a4-482b-a02b-45b071d1b699\">\n",
              "      <button class=\"colab-df-quickchart\" onclick=\"quickchart('df-4b19a4ae-b0a4-482b-a02b-45b071d1b699')\"\n",
              "              title=\"Suggest charts.\"\n",
              "              style=\"display:none;\">\n",
              "\n",
              "<svg xmlns=\"http://www.w3.org/2000/svg\" height=\"24px\"viewBox=\"0 0 24 24\"\n",
              "     width=\"24px\">\n",
              "    <g>\n",
              "        <path d=\"M19 3H5c-1.1 0-2 .9-2 2v14c0 1.1.9 2 2 2h14c1.1 0 2-.9 2-2V5c0-1.1-.9-2-2-2zM9 17H7v-7h2v7zm4 0h-2V7h2v10zm4 0h-2v-4h2v4z\"/>\n",
              "    </g>\n",
              "</svg>\n",
              "      </button>\n",
              "    </div>\n",
              "\n",
              "<style>\n",
              "  .colab-df-quickchart {\n",
              "    background-color: #E8F0FE;\n",
              "    border: none;\n",
              "    border-radius: 50%;\n",
              "    cursor: pointer;\n",
              "    display: none;\n",
              "    fill: #1967D2;\n",
              "    height: 32px;\n",
              "    padding: 0 0 0 0;\n",
              "    width: 32px;\n",
              "  }\n",
              "\n",
              "  .colab-df-quickchart:hover {\n",
              "    background-color: #E2EBFA;\n",
              "    box-shadow: 0px 1px 2px rgba(60, 64, 67, 0.3), 0px 1px 3px 1px rgba(60, 64, 67, 0.15);\n",
              "    fill: #174EA6;\n",
              "  }\n",
              "\n",
              "  [theme=dark] .colab-df-quickchart {\n",
              "    background-color: #3B4455;\n",
              "    fill: #D2E3FC;\n",
              "  }\n",
              "\n",
              "  [theme=dark] .colab-df-quickchart:hover {\n",
              "    background-color: #434B5C;\n",
              "    box-shadow: 0px 1px 3px 1px rgba(0, 0, 0, 0.15);\n",
              "    filter: drop-shadow(0px 1px 2px rgba(0, 0, 0, 0.3));\n",
              "    fill: #FFFFFF;\n",
              "  }\n",
              "</style>\n",
              "\n",
              "    <script>\n",
              "      async function quickchart(key) {\n",
              "        const containerElement = document.querySelector('#' + key);\n",
              "        const charts = await google.colab.kernel.invokeFunction(\n",
              "            'suggestCharts', [key], {});\n",
              "      }\n",
              "    </script>\n",
              "\n",
              "      <script>\n",
              "\n",
              "function displayQuickchartButton(domScope) {\n",
              "  let quickchartButtonEl =\n",
              "    domScope.querySelector('#df-4b19a4ae-b0a4-482b-a02b-45b071d1b699 button.colab-df-quickchart');\n",
              "  quickchartButtonEl.style.display =\n",
              "    google.colab.kernel.accessAllowed ? 'block' : 'none';\n",
              "}\n",
              "\n",
              "        displayQuickchartButton(document);\n",
              "      </script>\n",
              "      <style>\n",
              "    .colab-df-container {\n",
              "      display:flex;\n",
              "      flex-wrap:wrap;\n",
              "      gap: 12px;\n",
              "    }\n",
              "\n",
              "    .colab-df-convert {\n",
              "      background-color: #E8F0FE;\n",
              "      border: none;\n",
              "      border-radius: 50%;\n",
              "      cursor: pointer;\n",
              "      display: none;\n",
              "      fill: #1967D2;\n",
              "      height: 32px;\n",
              "      padding: 0 0 0 0;\n",
              "      width: 32px;\n",
              "    }\n",
              "\n",
              "    .colab-df-convert:hover {\n",
              "      background-color: #E2EBFA;\n",
              "      box-shadow: 0px 1px 2px rgba(60, 64, 67, 0.3), 0px 1px 3px 1px rgba(60, 64, 67, 0.15);\n",
              "      fill: #174EA6;\n",
              "    }\n",
              "\n",
              "    [theme=dark] .colab-df-convert {\n",
              "      background-color: #3B4455;\n",
              "      fill: #D2E3FC;\n",
              "    }\n",
              "\n",
              "    [theme=dark] .colab-df-convert:hover {\n",
              "      background-color: #434B5C;\n",
              "      box-shadow: 0px 1px 3px 1px rgba(0, 0, 0, 0.15);\n",
              "      filter: drop-shadow(0px 1px 2px rgba(0, 0, 0, 0.3));\n",
              "      fill: #FFFFFF;\n",
              "    }\n",
              "  </style>\n",
              "\n",
              "      <script>\n",
              "        const buttonEl =\n",
              "          document.querySelector('#df-391baf02-e4d3-4e1c-a3d2-f4b3aaabce87 button.colab-df-convert');\n",
              "        buttonEl.style.display =\n",
              "          google.colab.kernel.accessAllowed ? 'block' : 'none';\n",
              "\n",
              "        async function convertToInteractive(key) {\n",
              "          const element = document.querySelector('#df-391baf02-e4d3-4e1c-a3d2-f4b3aaabce87');\n",
              "          const dataTable =\n",
              "            await google.colab.kernel.invokeFunction('convertToInteractive',\n",
              "                                                     [key], {});\n",
              "          if (!dataTable) return;\n",
              "\n",
              "          const docLinkHtml = 'Like what you see? Visit the ' +\n",
              "            '<a target=\"_blank\" href=https://colab.research.google.com/notebooks/data_table.ipynb>data table notebook</a>'\n",
              "            + ' to learn more about interactive tables.';\n",
              "          element.innerHTML = '';\n",
              "          dataTable['output_type'] = 'display_data';\n",
              "          await google.colab.output.renderOutput(dataTable, element);\n",
              "          const docLink = document.createElement('div');\n",
              "          docLink.innerHTML = docLinkHtml;\n",
              "          element.appendChild(docLink);\n",
              "        }\n",
              "      </script>\n",
              "    </div>\n",
              "  </div>\n"
            ]
          },
          "metadata": {},
          "execution_count": 3
        }
      ]
    }
  ]
}